{
  "nbformat": 4,
  "nbformat_minor": 0,
  "metadata": {
    "colab": {
      "provenance": [],
      "authorship_tag": "ABX9TyMGfT06XK6K8WrEZuBZJ7PE",
      "include_colab_link": true
    },
    "kernelspec": {
      "name": "python3",
      "display_name": "Python 3"
    },
    "language_info": {
      "name": "python"
    }
  },
  "cells": [
    {
      "cell_type": "markdown",
      "metadata": {
        "id": "view-in-github",
        "colab_type": "text"
      },
      "source": [
        "<a href=\"https://colab.research.google.com/github/saurabbh14/TDSE_1D/blob/main/Split_Oerator_method_01.ipynb\" target=\"_parent\"><img src=\"https://colab.research.google.com/assets/colab-badge.svg\" alt=\"Open In Colab\"/></a>"
      ]
    },
    {
      "cell_type": "code",
      "source": [
        "!apt install imagemagick"
      ],
      "metadata": {
        "id": "Qu-JCdoX2eA4"
      },
      "execution_count": null,
      "outputs": []
    },
    {
      "cell_type": "markdown",
      "source": [
        "# **Split Operator method**\n",
        "\n",
        "This code is the basic implemetation of Spilt operator method in one dimetion. The code is written in atomic units i.e. $m_e = ℏ = a_0 =1$. The sample code depicts the motion of Gaussian-type electron wavefunction in the harmonic potential. Also the average mass of proton and neutron is $m_p \\approx 1837 m_e$ "
      ],
      "metadata": {
        "id": "BCdq4Tsb5SzV"
      }
    },
    {
      "cell_type": "code",
      "source": [
        "%matplotlib inline\n",
        "import numpy as np\n",
        "import matplotlib.pyplot as plt\n",
        "\n",
        "\n",
        "# Define the potential function\n",
        "V = lambda x: 0.5*x**2 \n",
        "\n",
        "# Define the initial wave function\n",
        "psi = lambda x: np.exp(-10*(x-2)**2/2)\n",
        "\n",
        "# mass\n",
        "mu = 1 \n",
        "\n",
        "# Define the time step and number of steps\n",
        "dt = 0.1\n",
        "Nt = 20000\n",
        "\n",
        "# Define the spatial discretization\n",
        "L = 10\n",
        "N_points = 2**10\n",
        "dx = 2*L/N_points\n",
        "x = np.linspace(-L, L, N_points)\n",
        "\n",
        "# visualizing the potential\n",
        "plt.plot(x, V(x))\n",
        "plt.show()\n",
        "\n",
        "# Compute the kinetic energy operator\n",
        "K = np.fft.fftfreq(N_points, d=dx)**2 /(2*mu)\n",
        "\n",
        "# Initial wavefunction\n",
        "psi_x = np.complex128(psi(x))   # genarating comlex array\n",
        "psi_x /= np.sqrt(sum(abs(psi_x)**2)*dx) # Normalization\n",
        "\n",
        "#initialize an empty list to store the wave function at each time step\n",
        "psi_list = []\n",
        "psi_list.append(psi_x) #append the initial wave function to the list\n",
        "  \n",
        "# Split operator function\n",
        "def split_operator_fft(psi_x, dt):\n",
        "   psi_x *= np.exp(-1j*V(x)*dt/2)          # V : dt/2\n",
        "   psi_k = np.fft.fft(psi_x)      # FFT\n",
        "   psi_k *= np.exp(-1j*K*dt)               # K : dt\n",
        "   psi_x = np.fft.ifft(psi_k)  # inverse FFT\n",
        "   psi_x *= np.exp(-1j*V(x)*dt/2)          # V : dt/2 \n",
        "   return psi_x\n",
        "\n",
        "# begin timeloop\n",
        "for i in range(Nt):\n",
        "   psi_x = split_operator_fft(psi_x, dt)\n",
        "   psi_list.append(psi_x) #append the current wave function to the list\n",
        " \n",
        "#End of  the timeloop"
      ],
      "metadata": {
        "id": "LMqatSF3Mybn"
      },
      "execution_count": null,
      "outputs": []
    },
    {
      "cell_type": "code",
      "source": [
        "# Generating animation\n",
        "from matplotlib.animation import FuncAnimation\n",
        "\n",
        "fig = plt.figure()\n",
        "ax = plt.axes(xlim=(-5, 5), ylim=(0, 3))\n",
        "ax.plot(x,V(x), \"g-\")  # plotting the potential\n",
        "line, = ax.plot([], [], \"b-\")\n",
        "\n",
        "def init():\n",
        "    line.set_data([], [])\n",
        "    return line,\n",
        "def animate(i):\n",
        "    y = line.set_data(x, np.abs(psi_list[i])**2) # plotting wavefunction density\n",
        "    return line,\n",
        "\n",
        "plt.xlabel('x')\n",
        "plt.ylabel('Probability density')\n",
        "anim = FuncAnimation(fig, animate, init_func=init,\n",
        "                         frames=400, interval=20, blit=True)\n",
        "\n",
        "\n",
        "anim.save('sine_wave.gif', writer='imagemagick')\n"
      ],
      "metadata": {
        "colab": {
          "base_uri": "https://localhost:8080/",
          "height": 283
        },
        "id": "u8JFUGANR9cT",
        "outputId": "7c2e45b8-8594-4768-c745-3a58dfb4b317"
      },
      "execution_count": 16,
      "outputs": [
        {
          "output_type": "display_data",
          "data": {
            "text/plain": [
              "<Figure size 432x288 with 1 Axes>"
            ],
            "image/png": "[encoded data removed]"
          },
          "metadata": {
            "needs_background": "light"
          }
        }
      ]
    }
  ]
}